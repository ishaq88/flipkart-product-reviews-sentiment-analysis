{
 "cells": [
  {
   "cell_type": "code",
   "execution_count": 1,
   "id": "923841db-9940-4d9a-b19d-c10895a6f253",
   "metadata": {},
   "outputs": [],
   "source": [
    "import pandas as pd\n",
    "import numpy as np\n",
    "from sklearn.model_selection import train_test_split"
   ]
  },
  {
   "cell_type": "code",
   "execution_count": 2,
   "id": "9a847355-18da-4859-b946-e174cdb012f3",
   "metadata": {},
   "outputs": [],
   "source": [
    "df = pd.read_csv('F:/innomatics/sentiment_analysis_project/reviews_data_dump/labeled_sentiment_flipkart_reviews.csv')"
   ]
  },
  {
   "cell_type": "code",
   "execution_count": 3,
   "id": "f7316033-d62c-4b2e-aa97-2ae271eb890b",
   "metadata": {},
   "outputs": [
    {
     "data": {
      "text/html": [
       "<div>\n",
       "<style scoped>\n",
       "    .dataframe tbody tr th:only-of-type {\n",
       "        vertical-align: middle;\n",
       "    }\n",
       "\n",
       "    .dataframe tbody tr th {\n",
       "        vertical-align: top;\n",
       "    }\n",
       "\n",
       "    .dataframe thead th {\n",
       "        text-align: right;\n",
       "    }\n",
       "</style>\n",
       "<table border=\"1\" class=\"dataframe\">\n",
       "  <thead>\n",
       "    <tr style=\"text-align: right;\">\n",
       "      <th></th>\n",
       "      <th>review_text</th>\n",
       "      <th>label</th>\n",
       "    </tr>\n",
       "  </thead>\n",
       "  <tbody>\n",
       "    <tr>\n",
       "      <th>0</th>\n",
       "      <td>Nice product, good quality, but price is now r...</td>\n",
       "      <td>negative</td>\n",
       "    </tr>\n",
       "    <tr>\n",
       "      <th>1</th>\n",
       "      <td>They didn't supplied Yonex Mavis 350. Outside ...</td>\n",
       "      <td>negative</td>\n",
       "    </tr>\n",
       "    <tr>\n",
       "      <th>2</th>\n",
       "      <td>Worst product. Damaged shuttlecocks packed in ...</td>\n",
       "      <td>negative</td>\n",
       "    </tr>\n",
       "    <tr>\n",
       "      <th>3</th>\n",
       "      <td>Quite O. K. , but nowadays  the quality of the...</td>\n",
       "      <td>negative</td>\n",
       "    </tr>\n",
       "    <tr>\n",
       "      <th>4</th>\n",
       "      <td>Over pricedJust â?¹620 ..from retailer.I didn'...</td>\n",
       "      <td>negative</td>\n",
       "    </tr>\n",
       "  </tbody>\n",
       "</table>\n",
       "</div>"
      ],
      "text/plain": [
       "                                         review_text     label\n",
       "0  Nice product, good quality, but price is now r...  negative\n",
       "1  They didn't supplied Yonex Mavis 350. Outside ...  negative\n",
       "2  Worst product. Damaged shuttlecocks packed in ...  negative\n",
       "3  Quite O. K. , but nowadays  the quality of the...  negative\n",
       "4  Over pricedJust â?¹620 ..from retailer.I didn'...  negative"
      ]
     },
     "execution_count": 3,
     "metadata": {},
     "output_type": "execute_result"
    }
   ],
   "source": [
    "df.head()"
   ]
  },
  {
   "cell_type": "code",
   "execution_count": 4,
   "id": "e497ee0c-58da-4f1e-9759-d7c79d3fa5f4",
   "metadata": {},
   "outputs": [
    {
     "data": {
      "text/plain": [
       "'Nice product, good quality, but price is now rising which is a bad sign. 800-850 was an affordable price, especially when we play everyday. So kindly help us out in terms of the price. Thank You.'"
      ]
     },
     "execution_count": 4,
     "metadata": {},
     "output_type": "execute_result"
    }
   ],
   "source": [
    "# a negative review\n",
    "\n",
    "df.loc[0, 'review_text']"
   ]
  },
  {
   "cell_type": "code",
   "execution_count": 5,
   "id": "d889daca-8297-4497-b0c1-c79aad80956c",
   "metadata": {},
   "outputs": [
    {
     "data": {
      "text/plain": [
       "'Good quality product. Delivered on time.'"
      ]
     },
     "execution_count": 5,
     "metadata": {},
     "output_type": "execute_result"
    }
   ],
   "source": [
    "# a positve review\n",
    "\n",
    "df.loc[5, 'review_text']"
   ]
  },
  {
   "cell_type": "code",
   "execution_count": 6,
   "id": "b9eee6ab-dfb6-4c8b-844b-1f8a523f5961",
   "metadata": {},
   "outputs": [
    {
     "data": {
      "text/plain": [
       "label\n",
       "positive    6422\n",
       "negative    1272\n",
       "neutral      816\n",
       "Name: count, dtype: int64"
      ]
     },
     "execution_count": 6,
     "metadata": {},
     "output_type": "execute_result"
    }
   ],
   "source": [
    "# label distribution\n",
    "\n",
    "df.label.value_counts()"
   ]
  },
  {
   "cell_type": "markdown",
   "id": "b204176d-f797-430e-8cf7-e816ea36f096",
   "metadata": {},
   "source": [
    "\n",
    "As we can see from above that our label is **highly undistributed**, this needs to be considered in future while tuning the models\n"
   ]
  },
  {
   "cell_type": "code",
   "execution_count": 7,
   "id": "231c09ad-bdcb-4f17-8a4e-20ae3ffbb527",
   "metadata": {},
   "outputs": [],
   "source": [
    "df = df.loc[df['label'] != 'neutral']"
   ]
  },
  {
   "cell_type": "code",
   "execution_count": 8,
   "id": "76724c7f-9f05-43cd-8617-10ee5c404dbc",
   "metadata": {},
   "outputs": [],
   "source": [
    "label_map = {'negative': 0, 'positive': 1}\n",
    "df['label'] = df['label'].map(label_map)"
   ]
  },
  {
   "cell_type": "code",
   "execution_count": 9,
   "id": "f684d52b-e6b2-4d8b-8135-d9232f4b7222",
   "metadata": {},
   "outputs": [
    {
     "data": {
      "text/html": [
       "<div>\n",
       "<style scoped>\n",
       "    .dataframe tbody tr th:only-of-type {\n",
       "        vertical-align: middle;\n",
       "    }\n",
       "\n",
       "    .dataframe tbody tr th {\n",
       "        vertical-align: top;\n",
       "    }\n",
       "\n",
       "    .dataframe thead th {\n",
       "        text-align: right;\n",
       "    }\n",
       "</style>\n",
       "<table border=\"1\" class=\"dataframe\">\n",
       "  <thead>\n",
       "    <tr style=\"text-align: right;\">\n",
       "      <th></th>\n",
       "      <th>review_text</th>\n",
       "      <th>label</th>\n",
       "    </tr>\n",
       "  </thead>\n",
       "  <tbody>\n",
       "    <tr>\n",
       "      <th>0</th>\n",
       "      <td>Nice product, good quality, but price is now r...</td>\n",
       "      <td>0</td>\n",
       "    </tr>\n",
       "    <tr>\n",
       "      <th>1</th>\n",
       "      <td>They didn't supplied Yonex Mavis 350. Outside ...</td>\n",
       "      <td>0</td>\n",
       "    </tr>\n",
       "    <tr>\n",
       "      <th>2</th>\n",
       "      <td>Worst product. Damaged shuttlecocks packed in ...</td>\n",
       "      <td>0</td>\n",
       "    </tr>\n",
       "    <tr>\n",
       "      <th>3</th>\n",
       "      <td>Quite O. K. , but nowadays  the quality of the...</td>\n",
       "      <td>0</td>\n",
       "    </tr>\n",
       "    <tr>\n",
       "      <th>4</th>\n",
       "      <td>Over pricedJust â?¹620 ..from retailer.I didn'...</td>\n",
       "      <td>0</td>\n",
       "    </tr>\n",
       "  </tbody>\n",
       "</table>\n",
       "</div>"
      ],
      "text/plain": [
       "                                         review_text  label\n",
       "0  Nice product, good quality, but price is now r...      0\n",
       "1  They didn't supplied Yonex Mavis 350. Outside ...      0\n",
       "2  Worst product. Damaged shuttlecocks packed in ...      0\n",
       "3  Quite O. K. , but nowadays  the quality of the...      0\n",
       "4  Over pricedJust â?¹620 ..from retailer.I didn'...      0"
      ]
     },
     "execution_count": 9,
     "metadata": {},
     "output_type": "execute_result"
    }
   ],
   "source": [
    "df.head()"
   ]
  },
  {
   "cell_type": "code",
   "execution_count": 10,
   "id": "9f38c755-b473-4605-a701-725e55e9802d",
   "metadata": {},
   "outputs": [
    {
     "data": {
      "text/plain": [
       "label\n",
       "1    6422\n",
       "0    1272\n",
       "Name: count, dtype: int64"
      ]
     },
     "execution_count": 10,
     "metadata": {},
     "output_type": "execute_result"
    }
   ],
   "source": [
    "df.label.value_counts()"
   ]
  },
  {
   "cell_type": "code",
   "execution_count": 11,
   "id": "33387919-6776-4d70-a061-63c50d2974f7",
   "metadata": {},
   "outputs": [],
   "source": [
    "#balancing dataframe before any modeling processes\n",
    "\n",
    "positive_df = df[df['label'] == 1]\n",
    "negative_df = df[df['label'] == 0]\n",
    "\n",
    "# Randomly sample the same number of rows from the positive class as there are rows in the negative class\n",
    "positive_df = positive_df.sample(n=len(negative_df), replace=False, random_state=42)\n",
    "\n",
    "# Step 3: Concatenate the sampled positive class with the negative class\n",
    "balanced_df = pd.concat([positive_df, negative_df])\n",
    "\n",
    "# Shuffle the dataset to randomize the order of rows\n",
    "df = balanced_df.sample(frac=1, random_state=42).reset_index(drop=True)"
   ]
  },
  {
   "cell_type": "code",
   "execution_count": 12,
   "id": "2bfdeaf7-a447-4c4f-bc91-9a892b01ddfd",
   "metadata": {},
   "outputs": [
    {
     "data": {
      "text/plain": [
       "(2544, 2)"
      ]
     },
     "execution_count": 12,
     "metadata": {},
     "output_type": "execute_result"
    }
   ],
   "source": [
    "df.shape"
   ]
  },
  {
   "cell_type": "code",
   "execution_count": 13,
   "id": "58dd5b5a-2c9d-47e7-82f4-7ecc8fd0e238",
   "metadata": {},
   "outputs": [
    {
     "data": {
      "text/plain": [
       "label\n",
       "1    1272\n",
       "0    1272\n",
       "Name: count, dtype: int64"
      ]
     },
     "execution_count": 13,
     "metadata": {},
     "output_type": "execute_result"
    }
   ],
   "source": [
    "df.label.value_counts()"
   ]
  },
  {
   "cell_type": "markdown",
   "id": "95966267-e8b4-4d8b-ade6-3ecf3c866dad",
   "metadata": {},
   "source": [
    "## Data Modeling and model building"
   ]
  },
  {
   "cell_type": "markdown",
   "id": "18e46e14-197b-4ee0-80d6-719a171a31ea",
   "metadata": {},
   "source": [
    "### 1. Identifying Input and outputs"
   ]
  },
  {
   "cell_type": "code",
   "execution_count": 14,
   "id": "d2561102-f467-4dc2-b980-06e9dfe81f3e",
   "metadata": {},
   "outputs": [
    {
     "name": "stdout",
     "output_type": "stream",
     "text": [
      "(2544,) (2544,)\n"
     ]
    }
   ],
   "source": [
    "X = df.review_text\n",
    "y = df.label\n",
    "\n",
    "print(X.shape, y.shape)"
   ]
  },
  {
   "cell_type": "markdown",
   "id": "a138e7ce-b25d-41a3-8b25-458aa41614ac",
   "metadata": {},
   "source": [
    "### 2. split the data into train and test "
   ]
  },
  {
   "cell_type": "code",
   "execution_count": 15,
   "id": "c7122219-c2d9-4e86-85c1-95d9d1026365",
   "metadata": {},
   "outputs": [
    {
     "data": {
      "text/plain": [
       "((2035,), (509,))"
      ]
     },
     "execution_count": 15,
     "metadata": {},
     "output_type": "execute_result"
    }
   ],
   "source": [
    "from sklearn.model_selection import train_test_split\n",
    "\n",
    "X_train, X_test, y_train, y_test = train_test_split(X, y , test_size=0.2, random_state=42)\n",
    "\n",
    "X_train.shape, X_test.shape"
   ]
  },
  {
   "cell_type": "markdown",
   "id": "45b76df2-77ba-4339-9700-24ab39c99da3",
   "metadata": {},
   "source": [
    "### 3. Data Preprocessing"
   ]
  },
  {
   "cell_type": "code",
   "execution_count": 16,
   "id": "848e3172-862f-4d54-8488-631cec298afc",
   "metadata": {},
   "outputs": [
    {
     "name": "stdout",
     "output_type": "stream",
     "text": [
      "CPU times: total: 0 ns\n",
      "Wall time: 20 ms\n"
     ]
    }
   ],
   "source": [
    "from sklearn.feature_extraction.text import CountVectorizer\n",
    "\n",
    "vect = CountVectorizer()\n",
    "\n",
    "#on train data\n",
    "%time X_train_vect = vect.fit_transform(X_train)\n",
    "\n",
    "feature_names = vect.get_feature_names_out()"
   ]
  },
  {
   "cell_type": "code",
   "execution_count": 17,
   "id": "cbfa9fee-88d7-401a-9135-734d431f0827",
   "metadata": {},
   "outputs": [
    {
     "data": {
      "text/plain": [
       "array(['02', '07', '10', ..., 'yr', 'zero', '¹620'], dtype=object)"
      ]
     },
     "execution_count": 17,
     "metadata": {},
     "output_type": "execute_result"
    }
   ],
   "source": [
    "feature_names"
   ]
  },
  {
   "cell_type": "code",
   "execution_count": 18,
   "id": "bba403eb-3f53-4387-a0f5-2c2621578035",
   "metadata": {},
   "outputs": [],
   "source": [
    "#data preprocessing on test data\n",
    "\n",
    "X_test_vect = vect.transform(X_test)"
   ]
  },
  {
   "cell_type": "markdown",
   "id": "9cf187c4-2cca-49d6-a737-950148f86091",
   "metadata": {},
   "source": [
    "### 4. Building a model"
   ]
  },
  {
   "cell_type": "code",
   "execution_count": 19,
   "id": "e39d442f-1a48-4903-aa0c-450ac72573a0",
   "metadata": {},
   "outputs": [
    {
     "name": "stdout",
     "output_type": "stream",
     "text": [
      "CPU times: total: 109 ms\n",
      "Wall time: 135 ms\n"
     ]
    },
    {
     "data": {
      "text/html": [
       "<style>#sk-container-id-1 {color: black;}#sk-container-id-1 pre{padding: 0;}#sk-container-id-1 div.sk-toggleable {background-color: white;}#sk-container-id-1 label.sk-toggleable__label {cursor: pointer;display: block;width: 100%;margin-bottom: 0;padding: 0.3em;box-sizing: border-box;text-align: center;}#sk-container-id-1 label.sk-toggleable__label-arrow:before {content: \"▸\";float: left;margin-right: 0.25em;color: #696969;}#sk-container-id-1 label.sk-toggleable__label-arrow:hover:before {color: black;}#sk-container-id-1 div.sk-estimator:hover label.sk-toggleable__label-arrow:before {color: black;}#sk-container-id-1 div.sk-toggleable__content {max-height: 0;max-width: 0;overflow: hidden;text-align: left;background-color: #f0f8ff;}#sk-container-id-1 div.sk-toggleable__content pre {margin: 0.2em;color: black;border-radius: 0.25em;background-color: #f0f8ff;}#sk-container-id-1 input.sk-toggleable__control:checked~div.sk-toggleable__content {max-height: 200px;max-width: 100%;overflow: auto;}#sk-container-id-1 input.sk-toggleable__control:checked~label.sk-toggleable__label-arrow:before {content: \"▾\";}#sk-container-id-1 div.sk-estimator input.sk-toggleable__control:checked~label.sk-toggleable__label {background-color: #d4ebff;}#sk-container-id-1 div.sk-label input.sk-toggleable__control:checked~label.sk-toggleable__label {background-color: #d4ebff;}#sk-container-id-1 input.sk-hidden--visually {border: 0;clip: rect(1px 1px 1px 1px);clip: rect(1px, 1px, 1px, 1px);height: 1px;margin: -1px;overflow: hidden;padding: 0;position: absolute;width: 1px;}#sk-container-id-1 div.sk-estimator {font-family: monospace;background-color: #f0f8ff;border: 1px dotted black;border-radius: 0.25em;box-sizing: border-box;margin-bottom: 0.5em;}#sk-container-id-1 div.sk-estimator:hover {background-color: #d4ebff;}#sk-container-id-1 div.sk-parallel-item::after {content: \"\";width: 100%;border-bottom: 1px solid gray;flex-grow: 1;}#sk-container-id-1 div.sk-label:hover label.sk-toggleable__label {background-color: #d4ebff;}#sk-container-id-1 div.sk-serial::before {content: \"\";position: absolute;border-left: 1px solid gray;box-sizing: border-box;top: 0;bottom: 0;left: 50%;z-index: 0;}#sk-container-id-1 div.sk-serial {display: flex;flex-direction: column;align-items: center;background-color: white;padding-right: 0.2em;padding-left: 0.2em;position: relative;}#sk-container-id-1 div.sk-item {position: relative;z-index: 1;}#sk-container-id-1 div.sk-parallel {display: flex;align-items: stretch;justify-content: center;background-color: white;position: relative;}#sk-container-id-1 div.sk-item::before, #sk-container-id-1 div.sk-parallel-item::before {content: \"\";position: absolute;border-left: 1px solid gray;box-sizing: border-box;top: 0;bottom: 0;left: 50%;z-index: -1;}#sk-container-id-1 div.sk-parallel-item {display: flex;flex-direction: column;z-index: 1;position: relative;background-color: white;}#sk-container-id-1 div.sk-parallel-item:first-child::after {align-self: flex-end;width: 50%;}#sk-container-id-1 div.sk-parallel-item:last-child::after {align-self: flex-start;width: 50%;}#sk-container-id-1 div.sk-parallel-item:only-child::after {width: 0;}#sk-container-id-1 div.sk-dashed-wrapped {border: 1px dashed gray;margin: 0 0.4em 0.5em 0.4em;box-sizing: border-box;padding-bottom: 0.4em;background-color: white;}#sk-container-id-1 div.sk-label label {font-family: monospace;font-weight: bold;display: inline-block;line-height: 1.2em;}#sk-container-id-1 div.sk-label-container {text-align: center;}#sk-container-id-1 div.sk-container {/* jupyter's `normalize.less` sets `[hidden] { display: none; }` but bootstrap.min.css set `[hidden] { display: none !important; }` so we also need the `!important` here to be able to override the default hidden behavior on the sphinx rendered scikit-learn.org. See: https://github.com/scikit-learn/scikit-learn/issues/21755 */display: inline-block !important;position: relative;}#sk-container-id-1 div.sk-text-repr-fallback {display: none;}</style><div id=\"sk-container-id-1\" class=\"sk-top-container\"><div class=\"sk-text-repr-fallback\"><pre>RandomForestClassifier(max_depth=3, random_state=42)</pre><b>In a Jupyter environment, please rerun this cell to show the HTML representation or trust the notebook. <br />On GitHub, the HTML representation is unable to render, please try loading this page with nbviewer.org.</b></div><div class=\"sk-container\" hidden><div class=\"sk-item\"><div class=\"sk-estimator sk-toggleable\"><input class=\"sk-toggleable__control sk-hidden--visually\" id=\"sk-estimator-id-1\" type=\"checkbox\" checked><label for=\"sk-estimator-id-1\" class=\"sk-toggleable__label sk-toggleable__label-arrow\">RandomForestClassifier</label><div class=\"sk-toggleable__content\"><pre>RandomForestClassifier(max_depth=3, random_state=42)</pre></div></div></div></div></div>"
      ],
      "text/plain": [
       "RandomForestClassifier(max_depth=3, random_state=42)"
      ]
     },
     "execution_count": 19,
     "metadata": {},
     "output_type": "execute_result"
    }
   ],
   "source": [
    "from sklearn.ensemble import RandomForestClassifier\n",
    "\n",
    "clf = RandomForestClassifier(max_depth=3, random_state=42)\n",
    "\n",
    "%time clf.fit(X_train_vect, y_train)"
   ]
  },
  {
   "cell_type": "markdown",
   "id": "6059eb20-8cce-4fd8-8125-34a4e80fda2f",
   "metadata": {},
   "source": [
    "### 5. Evaluation of the model"
   ]
  },
  {
   "cell_type": "code",
   "execution_count": 20,
   "id": "d790cd75-3dc3-4a9e-b99e-5e8c5dad3f43",
   "metadata": {},
   "outputs": [
    {
     "name": "stdout",
     "output_type": "stream",
     "text": [
      "accuracy for training data is 0.8786240786240787 and f1 score is 0.8823249166269653\n"
     ]
    }
   ],
   "source": [
    "from sklearn import metrics\n",
    "\n",
    "#evaluation on train data\n",
    "y_train_pred = clf.predict(X_train_vect)\n",
    "\n",
    "accuracy = metrics.accuracy_score(y_train, y_train_pred)\n",
    "f1_score = metrics.f1_score(y_train, y_train_pred)\n",
    "\n",
    "print(f\"accuracy for training data is {accuracy} and f1 score is {f1_score}\")"
   ]
  },
  {
   "cell_type": "code",
   "execution_count": 21,
   "id": "897549db-44c9-4ed1-9fff-453d52f77464",
   "metadata": {},
   "outputs": [
    {
     "data": {
      "text/plain": [
       "Text(0.5, 23.52222222222222, 'Predicted')"
      ]
     },
     "execution_count": 21,
     "metadata": {},
     "output_type": "execute_result"
    },
    {
     "data": {
      "image/png": "[encoded data removed]",
      "text/plain": [
       "<Figure size 640x480 with 2 Axes>"
      ]
     },
     "metadata": {},
     "output_type": "display_data"
    }
   ],
   "source": [
    "#confusion matrix for train data evaluation\n",
    "\n",
    "import numpy as np\n",
    "import seaborn as sns\n",
    "import matplotlib.pyplot as plt\n",
    "\n",
    "cm = metrics.confusion_matrix(y_train, y_train_pred)\n",
    "actual = np.sum(cm, axis=1).reshape(-1, 1)\n",
    "cmn = np.round(cm/actual, 2)\n",
    "\n",
    "sns.heatmap(cmn, annot=True, fmt='.2f', xticklabels=clf.classes_, yticklabels=clf.classes_)\n",
    "plt.ylabel('Actual')\n",
    "plt.xlabel('Predicted')"
   ]
  },
  {
   "cell_type": "code",
   "execution_count": 22,
   "id": "11a5d64b-2937-4fdf-ac4f-23620feb86e5",
   "metadata": {},
   "outputs": [
    {
     "name": "stdout",
     "output_type": "stream",
     "text": [
      "accuracy for training data is 0.8801571709233792 and f1 score is 0.8900900900900901\n"
     ]
    }
   ],
   "source": [
    "#evaluation on test data\n",
    "y_test_pred = clf.predict(X_test_vect)\n",
    "\n",
    "accuracy = metrics.accuracy_score(y_test, y_test_pred)\n",
    "f1_score = metrics.f1_score(y_test, y_test_pred)\n",
    "\n",
    "print(f\"accuracy for training data is {accuracy} and f1 score is {f1_score}\")"
   ]
  },
  {
   "cell_type": "code",
   "execution_count": 23,
   "id": "55c4666b-194a-4df0-8332-f35a65a107d7",
   "metadata": {},
   "outputs": [
    {
     "data": {
      "text/plain": [
       "Text(0.5, 23.52222222222222, 'Predicted')"
      ]
     },
     "execution_count": 23,
     "metadata": {},
     "output_type": "execute_result"
    },
    {
     "data": {
      "image/png": "[encoded data removed]",
      "text/plain": [
       "<Figure size 640x480 with 2 Axes>"
      ]
     },
     "metadata": {},
     "output_type": "display_data"
    }
   ],
   "source": [
    "#confusion matrix for test data\n",
    "\n",
    "cm = metrics.confusion_matrix(y_test, y_test_pred)\n",
    "actual = np.sum(cm, axis=1).reshape(-1, 1)\n",
    "cmn = np.round(cm/actual, 2)\n",
    "\n",
    "sns.heatmap(cmn, annot=True, fmt='.2f', xticklabels=clf.classes_, yticklabels=clf.classes_)\n",
    "plt.ylabel('Actual')\n",
    "plt.xlabel('Predicted')"
   ]
  },
  {
   "cell_type": "code",
   "execution_count": 24,
   "id": "c4a6ef4f-2abf-4785-b390-a6e540908a60",
   "metadata": {},
   "outputs": [
    {
     "data": {
      "text/plain": [
       "array([1], dtype=int64)"
      ]
     },
     "execution_count": 24,
     "metadata": {},
     "output_type": "execute_result"
    }
   ],
   "source": [
    "data = ['good product, really happy']\n",
    "def pred(data=[]):\n",
    "    \n",
    "    data_vect = vect.transform(data)\n",
    "    pred = clf.predict(data_vect)\n",
    "    return pred\n",
    "\n",
    "pred(data)"
   ]
  },
  {
   "cell_type": "markdown",
   "id": "862ef490-beb5-4467-83d4-dcb13ef224fd",
   "metadata": {},
   "source": [
    "## Implementing pipeline on our dataset"
   ]
  },
  {
   "cell_type": "code",
   "execution_count": 25,
   "id": "c6fd6770-ad66-4709-a643-bbfd90162d86",
   "metadata": {},
   "outputs": [],
   "source": [
    "import warnings\n",
    "warnings.filterwarnings('ignore')\n",
    "\n",
    "\n",
    "from sklearn.pipeline import Pipeline\n",
    "from sklearn.feature_extraction.text import CountVectorizer, TfidfVectorizer\n",
    "from sklearn.naive_bayes import MultinomialNB\n",
    "from sklearn.linear_model import LogisticRegression\n",
    "from sklearn.ensemble import RandomForestClassifier\n",
    "from sklearn.svm import SVC\n",
    "from sklearn.neighbors import KNeighborsClassifier\n",
    "\n",
    "from sklearn.model_selection import GridSearchCV"
   ]
  },
  {
   "cell_type": "code",
   "execution_count": 26,
   "id": "ad9e700d-58a4-457c-9d7b-2528932253c0",
   "metadata": {},
   "outputs": [],
   "source": [
    "import joblib\n",
    "import time\n",
    "from joblib import Memory\n",
    "import os\n",
    "import mlflow"
   ]
  },
  {
   "cell_type": "code",
   "execution_count": 27,
   "id": "b0fcfb7c-c879-420f-95dd-24461f3fa68e",
   "metadata": {},
   "outputs": [],
   "source": [
    "# Define a memory object to cache intermediate results\n",
    "cachedir = '.cache'\n",
    "memory = Memory(location=cachedir, verbose=0)\n",
    "\n",
    "pipelines = {\n",
    "    'naive_bayes': Pipeline([\n",
    "        ('vectorization', CountVectorizer()),\n",
    "        ('classifier', MultinomialNB())\n",
    "    ], memory=memory),\n",
    "    \n",
    "    'random_forest': Pipeline([\n",
    "        ('vectorization', CountVectorizer()),\n",
    "        ('classifier', RandomForestClassifier())\n",
    "    ], memory=memory),\n",
    "    \n",
    "    'logistic_regression': Pipeline([\n",
    "        ('vectorization', CountVectorizer()),\n",
    "        ('classifier', LogisticRegression())\n",
    "    ], memory=memory),\n",
    "    \n",
    "    'svm': Pipeline([\n",
    "        ('vectorization', CountVectorizer()),\n",
    "        ('classifier', SVC())\n",
    "    ], memory=memory),\n",
    "\n",
    "    'knn': Pipeline([\n",
    "        ('vectorization', CountVectorizer()),\n",
    "        ('classifier', KNeighborsClassifier())\n",
    "    ], memory=memory)\n",
    "}\n",
    "\n",
    "# Define parameter grid for each algorithm\n",
    "param_grids = {\n",
    "    'naive_bayes': [\n",
    "        {\n",
    "            'vectorization': [CountVectorizer()],\n",
    "            'vectorization__max_features' : [1000, 1500, 2000], \n",
    "            'classifier__alpha' : [0.1, 0.5, 1, 10]\n",
    "        }\n",
    "    ],\n",
    "    'random_forest': [\n",
    "        {\n",
    "            'vectorization': [CountVectorizer()],\n",
    "            'vectorization__max_features' : [1000, 1500, 2000],\n",
    "            'classifier__max_depth': [None, 5, 10],\n",
    "            'classifier__n_estimators': [100, 200, 300]\n",
    "        }\n",
    "    ],\n",
    "    'logistic_regression': [\n",
    "        {\n",
    "            'vectorization': [CountVectorizer(), TfidfVectorizer()],\n",
    "            'vectorization__max_features' : [1000, 2000], \n",
    "            'classifier__C': [0.1, 1, 10], \n",
    "            'classifier__penalty': ['l1', 'l2'], \n",
    "            'classifier__solver': ['liblinear', 'saga'],\n",
    "        }\n",
    "    ],\n",
    "    'knn': [\n",
    "        {\n",
    "            'vectorization': [CountVectorizer()],\n",
    "            'vectorization__max_features' : [1000, 1500, 2000], \n",
    "            'classifier__n_neighbors': [3, 5, 7],\n",
    "            'classifier__p': [1, 2]\n",
    "        }\n",
    "    ],\n",
    "    'svm': [\n",
    "        {\n",
    "            'vectorization': [CountVectorizer()],\n",
    "            'vectorization__max_features' : [1000, 1500, 2000], \n",
    "            'classifier__C': [0.1, 1, 10],\n",
    "            'classifier__kernel': ['linear', 'rbf'],\n",
    "            'classifier__gamma': ['scale', 'auto']\n",
    "        }\n",
    "    ],\n",
    "}"
   ]
  },
  {
   "cell_type": "code",
   "execution_count": 28,
   "id": "318b6b81-6b04-4843-9c26-9eb8e8f3deb5",
   "metadata": {},
   "outputs": [
    {
     "data": {
      "text/plain": [
       "<Experiment: artifact_location='file:///F:/innomatics/sentiment_analysis_project/jupyter_model_train/mlruns/719227907250715711', creation_time=1711468250097, experiment_id='719227907250715711', last_update_time=1711468250097, lifecycle_stage='active', name='flipkart-sentiment-analysis', tags={}>"
      ]
     },
     "execution_count": 28,
     "metadata": {},
     "output_type": "execute_result"
    }
   ],
   "source": [
    "mlflow.set_experiment('flipkart-sentiment-analysis')"
   ]
  },
  {
   "cell_type": "code",
   "execution_count": 29,
   "id": "89ac60b6-4282-46bf-bc8b-60ce78eb173d",
   "metadata": {},
   "outputs": [
    {
     "name": "stdout",
     "output_type": "stream",
     "text": [
      "********** naive_bayes **********\n"
     ]
    },
    {
     "name": "stderr",
     "output_type": "stream",
     "text": [
      "2024/03/27 13:22:07 WARNING mlflow.sklearn: Unrecognized dataset type <class 'pandas.core.series.Series'>. Dataset logging skipped.\n"
     ]
    },
    {
     "name": "stdout",
     "output_type": "stream",
     "text": [
      "Fitting 3 folds for each of 12 candidates, totalling 36 fits\n"
     ]
    },
    {
     "name": "stderr",
     "output_type": "stream",
     "text": [
      "2024/03/27 13:22:25 WARNING mlflow.sklearn: Unrecognized dataset type <class 'pandas.core.series.Series'>. Dataset logging skipped.\n"
     ]
    },
    {
     "name": "stdout",
     "output_type": "stream",
     "text": [
      "CPU times: total: 2.58 s\n",
      "Wall time: 18.1 s\n",
      "Train Score:  0.935811460348912\n",
      "Test Score:  0.9104761904761903\n",
      "\n",
      "********** random_forest **********\n",
      "Fitting 3 folds for each of 27 candidates, totalling 81 fits\n",
      "CPU times: total: 1min 9s\n",
      "Wall time: 1min 56s\n",
      "Train Score:  0.9435041175208063\n",
      "Test Score:  0.96045197740113\n",
      "\n",
      "********** logistic_regression **********\n"
     ]
    },
    {
     "name": "stderr",
     "output_type": "stream",
     "text": [
      "2024/03/27 13:24:22 WARNING mlflow.sklearn: Unrecognized dataset type <class 'pandas.core.series.Series'>. Dataset logging skipped.\n"
     ]
    },
    {
     "name": "stdout",
     "output_type": "stream",
     "text": [
      "Fitting 3 folds for each of 48 candidates, totalling 144 fits\n",
      "CPU times: total: 8.77 s\n",
      "Wall time: 21.3 s\n",
      "Train Score:  0.9628536688086612\n",
      "Test Score:  0.9586466165413534\n",
      "\n",
      "********** svm **********\n"
     ]
    },
    {
     "name": "stderr",
     "output_type": "stream",
     "text": [
      "2024/03/27 13:24:43 WARNING mlflow.sklearn: Unrecognized dataset type <class 'pandas.core.series.Series'>. Dataset logging skipped.\n"
     ]
    },
    {
     "name": "stdout",
     "output_type": "stream",
     "text": [
      "Fitting 3 folds for each of 36 candidates, totalling 108 fits\n"
     ]
    },
    {
     "name": "stderr",
     "output_type": "stream",
     "text": [
      "2024/03/27 13:25:10 WARNING mlflow.sklearn: Unrecognized dataset type <class 'pandas.core.series.Series'>. Dataset logging skipped.\n"
     ]
    },
    {
     "name": "stdout",
     "output_type": "stream",
     "text": [
      "CPU times: total: 14.9 s\n",
      "Wall time: 26 s\n",
      "Train Score:  0.962597438813436\n",
      "Test Score:  0.9589552238805971\n",
      "\n",
      "********** knn **********\n",
      "Fitting 3 folds for each of 18 candidates, totalling 54 fits\n",
      "CPU times: total: 19.7 s\n",
      "Wall time: 19.6 s\n",
      "Train Score:  0.8976824119371388\n",
      "Test Score:  0.903114186851211\n",
      "\n"
     ]
    }
   ],
   "source": [
    "# Perform GridSearchCV for each algorithm and log in the mlflow\n",
    "dev = 'Ishaq Miyawala'\n",
    "best_models = {}\n",
    "\n",
    "\n",
    "for algo in pipelines.keys():\n",
    "    print(\"*\"*10, algo, \"*\"*10)\n",
    "    clf = GridSearchCV(estimator=pipelines[algo], \n",
    "                               param_grid=param_grids[algo], \n",
    "                               cv=3, \n",
    "                               scoring='f1', \n",
    "                               return_train_score=True,\n",
    "                               verbose=1\n",
    "                              )\n",
    "\n",
    "    #autologging\n",
    "    mlflow.sklearn.autolog(max_tuning_runs=None)\n",
    "    \n",
    "    with mlflow.start_run() as run:\n",
    "        %time clf.fit(X_train, y_train)\n",
    "        \n",
    "    print('Train Score: ', clf.best_score_)\n",
    "    print('Test Score: ', clf.score(X_test, y_test))\n",
    "\n",
    "    best_models[algo] = clf.best_estimator_\n",
    "    print()\n",
    "\n",
    "\n",
    "    # #custom logging\n",
    "    # #fit the data on the model and calculate time\n",
    "    # start_fit_time = time.time()\n",
    "    # clf.fit(X_train, y_train)\n",
    "    # end_fit_time = time.time()\n",
    "\n",
    "    # #prediction time\n",
    "    # start_predict_time = time.time()\n",
    "    # y_pred = clf.predict(X_test)\n",
    "    # end_predict_time = time.time()\n",
    "\n",
    "    # #save the best models for each algorithm\n",
    "    # joblib.dump(clf.best_estimator_, f'best_models/{name}.pkl')\n",
    "    # model_size = os.path.getsize(f'best_models/{algo}.pkl')\n",
    "\n",
    "    #  # Printing Log\n",
    "    # print('Train Score: ', clf.best_score_)\n",
    "    # print('Test Score: ', clf.score(X_test, y_test))\n",
    "    # print(\"Fit Time: \", end_fit_time - start_fit_time)\n",
    "    # print(\"Predict Time: \", end_predict_time - start_predict_time)\n",
    "    # print(\"Model Size: \", model_size)\n",
    "    # print()\n",
    "\n",
    "    # #MLflow experiment run\n",
    "    # with mlflow.start_run() as run:\n",
    "        \n",
    "    #     # Log tags\n",
    "    #     mlflow.set_tag(\"developer\", dev)\n",
    "\n",
    "    #     # Log Parameters \n",
    "    #     mlflow.log_param(\"algorithm\", algo)\n",
    "    #     mlflow.log_param(\"hyperparameter_grid\", param_grids[algo])\n",
    "    #     mlflow.log_param(\"best_hyperparameter\", clf.best_params_)\n",
    "\n",
    "    #     # Log Metrics \n",
    "    #     mlflow.log_metric(\"train_score\", clf.best_score_)\n",
    "    #     mlflow.log_metric(\"test_score\", clf.score(X_test, y_test))\n",
    "    #     mlflow.log_metric(\"fit_time\", end_fit_time - start_fit_time)\n",
    "    #     mlflow.log_metric(\"predict_time\", end_predict_time - start_predict_time)\n",
    "    #     mlflow.log_metric(\"model_size\", model_size)\n",
    "\n",
    "    #     # Log Model\n",
    "    #     mlflow.sklearn.log_model(clf.best_estimator_, f\"{algo}_model\")\n",
    "    "
   ]
  },
  {
   "cell_type": "code",
   "execution_count": 30,
   "id": "1972d1c4-78d5-468b-8101-ac0fc6dd365f",
   "metadata": {},
   "outputs": [
    {
     "name": "stdout",
     "output_type": "stream",
     "text": [
      "naive_bayes\n",
      "Pipeline(memory=Memory(location=.cache\\joblib),\n",
      "         steps=[('vectorization', CountVectorizer(max_features=1500)),\n",
      "                ('classifier', MultinomialNB(alpha=0.1))])\n",
      "\n",
      "random_forest\n",
      "Pipeline(memory=Memory(location=.cache\\joblib),\n",
      "         steps=[('vectorization', CountVectorizer(max_features=1500)),\n",
      "                ('classifier', RandomForestClassifier())])\n",
      "\n",
      "logistic_regression\n",
      "Pipeline(memory=Memory(location=.cache\\joblib),\n",
      "         steps=[('vectorization', CountVectorizer(max_features=2000)),\n",
      "                ('classifier', LogisticRegression(C=10, solver='liblinear'))])\n",
      "\n",
      "svm\n",
      "Pipeline(memory=Memory(location=.cache\\joblib),\n",
      "         steps=[('vectorization', CountVectorizer(max_features=1500)),\n",
      "                ('classifier', SVC(C=1, kernel='linear'))])\n",
      "\n",
      "knn\n",
      "Pipeline(memory=Memory(location=.cache\\joblib),\n",
      "         steps=[('vectorization', CountVectorizer(max_features=1500)),\n",
      "                ('classifier', KNeighborsClassifier(n_neighbors=3, p=1))])\n",
      "\n"
     ]
    }
   ],
   "source": [
    "for name, model in best_models.items():\n",
    "    print(f\"{name}\")\n",
    "    print(f\"{model}\")\n",
    "    print()"
   ]
  },
  {
   "cell_type": "code",
   "execution_count": 31,
   "id": "1f71a135-9044-44cc-8ac7-dd68a2dcbaf4",
   "metadata": {},
   "outputs": [
    {
     "name": "stdout",
     "output_type": "stream",
     "text": [
      "********** naive_bayes **********\n",
      "CPU times: total: 0 ns\n",
      "Wall time: 3.97 ms\n",
      "Test Score (F1) 0.9104761904761903\n",
      "Model Size: 87463 Bytes\n",
      "********** random_forest **********\n",
      "CPU times: total: 31.2 ms\n",
      "Wall time: 36 ms\n",
      "Test Score (F1) 0.96045197740113\n",
      "Model Size: 6221617 Bytes\n",
      "********** logistic_regression **********\n",
      "CPU times: total: 0 ns\n",
      "Wall time: 4 ms\n",
      "Test Score (F1) 0.9586466165413534\n",
      "Model Size: 55718 Bytes\n",
      "********** svm **********\n",
      "CPU times: total: 15.6 ms\n",
      "Wall time: 12 ms\n",
      "Test Score (F1) 0.9589552238805971\n",
      "Model Size: 83238 Bytes\n",
      "********** knn **********\n",
      "CPU times: total: 109 ms\n",
      "Wall time: 58 ms\n",
      "Test Score (F1) 0.903114186851211\n",
      "Model Size: 220956 Bytes\n"
     ]
    }
   ],
   "source": [
    "directory = 'best_models'\n",
    "if not os.path.exists(directory):\n",
    "    os.makedirs(directory)\n",
    "\n",
    "\n",
    "for name, model in best_models.items():\n",
    "    print(\"*\"*10, name, \"*\"*10)\n",
    "    \n",
    "    joblib.dump(model, f'best_models/{name}.pkl')\n",
    "    model = joblib.load(f'best_models/{name}.pkl')\n",
    "    \n",
    "    %time y_test_pred = model.predict(X_test)\n",
    "    print(\"Test Score (F1)\", metrics.f1_score(y_test, y_test_pred))\n",
    "    \n",
    "    print(\"Model Size:\", os.path.getsize(f'best_models/{name}.pkl'), \"Bytes\")"
   ]
  },
  {
   "cell_type": "markdown",
   "id": "300266b3-7242-4e1f-85e1-6105aab5e184",
   "metadata": {},
   "source": [
    "Thus svm provides the most accurate test predictions with minimal predict time too"
   ]
  },
  {
   "cell_type": "code",
   "execution_count": 32,
   "id": "1ad3aaa6-60d8-4012-aee8-009a74358b42",
   "metadata": {},
   "outputs": [
    {
     "name": "stdout",
     "output_type": "stream",
     "text": [
      "prediction:  [1]\n"
     ]
    }
   ],
   "source": [
    "#using svm model to predict on new data\n",
    "\n",
    "model = joblib.load('best_models/svm.pkl')\n",
    "\n",
    "data = ['This product is really good we will definitely buy it in the future']\n",
    "\n",
    "prediction = model.predict(data)\n",
    "print('prediction: ',prediction)\n",
    "\n",
    "#prediction 0 means negative sentiment and 1 means positive sentiment"
   ]
  },
  {
   "cell_type": "code",
   "execution_count": 33,
   "id": "945eaeb9-4e19-412b-90dc-a2392b0a0b88",
   "metadata": {},
   "outputs": [
    {
     "name": "stdout",
     "output_type": "stream",
     "text": [
      "prediction:  [0]\n"
     ]
    }
   ],
   "source": [
    "data2 = [\"this is the worst product, won't recommend anyone\"]\n",
    "\n",
    "prediction = model.predict(data2)\n",
    "print('prediction: ',prediction)"
   ]
  },
  {
   "cell_type": "code",
   "execution_count": 41,
   "id": "49f80606-6fdb-4aff-b3bc-d46c3f75f377",
   "metadata": {},
   "outputs": [],
   "source": [
    "mlflow.sklearn.autolog(disable=True)"
   ]
  },
  {
   "cell_type": "markdown",
   "id": "6b13e0d6-0363-41c7-b5df-837be077f677",
   "metadata": {},
   "source": [
    "****\n",
    "## Getting it all together and making an ML model workflow\n",
    "****\n",
    "**The Three Main components that we will be Using for making a production ready workflow are:**\n",
    "\n",
    "**1. **Pipeline**\n",
    "2. **Mlflow**\n",
    "3. **Prefect****"
   ]
  },
  {
   "cell_type": "markdown",
   "id": "0f8369fe-bab8-4e23-be05-4f5543fcd30f",
   "metadata": {},
   "source": [
    "<img src=\"data:image/png;base64,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\" alt='ML workflow' width=\"1080\">"
   ]
  },
  {
   "cell_type": "markdown",
   "id": "fe0b4609-31d8-4884-9524-4821118a8348",
   "metadata": {},
   "source": [
    "Let's see in detail how these 3 can work together for our problem statement and how we can utilize them for modularity, reproducibility, management, deployment and maintainence of our model.\n",
    "\n",
    "**1. Pipeline:** A sequence of data transformers with an optional final predictor. Pipeline allows you to sequentially apply a list of transformers to preprocess the data and, if desired, conclude the sequence with a final predictor for predictive modeling. i.e. the stages in which an data is moved through the various segments of the ML model building processes.\n",
    "\n",
    "**2. MLflow:** MLflow is an open source MLOps tool that can help with the machine learning lifecycle, including training, tuning, and deploying models. some of its advantages are:\n",
    "\n",
    "    * Streamlined Experiment Tracking and Reproducibility.\n",
    "    * Enhanced Collaboration and Knowledge Sharing.\n",
    "    * Improved Model Packaging and Deployment.\n",
    "    * Efficient Model Lifecycle Management. \n",
    "\n",
    "**3. Prefect:** It is is an orchestration tool designed for managing, scheduling, running, and monitoring tasks within a workflow."
   ]
  },
  {
   "cell_type": "markdown",
   "id": "d54f17ea-6f9f-4c7d-a338-cb82b5e70850",
   "metadata": {},
   "source": [
    "### let's train our data for sentiment analysis by logging via MLflow and Prefect\n",
    "****\n",
    "\n",
    "**As we have concluded during experimentation phase that Logistic Regression gives a good model for our problem statement, we will be using logistic regression for productionizing and scheduling**\n",
    "\n",
    "best LR hyperparamters:\n",
    "\n",
    "{'vectorization': CountVectorizer(), \n",
    "'vectorization__max_features': 1000,\n",
    "'classifier__C': 10, \n",
    "'classifier__penalty': 'l2', \n",
    "'classifier__solver': 'saga', }"
   ]
  },
  {
   "cell_type": "code",
   "execution_count": 42,
   "id": "deca5378-988f-4225-a0de-2214a98c19b9",
   "metadata": {},
   "outputs": [],
   "source": [
    "#let's first experiment to find out the best model for our statement and then use prefect for scheduled training\n",
    "\n",
    "import pandas as pd\n",
    "import numpy as np\n",
    "from sklearn.model_selection import train_test_split\n",
    "import warnings\n",
    "warnings.filterwarnings('ignore')\n",
    "\n",
    "\n",
    "import joblib\n",
    "import time\n",
    "from joblib import Memory\n",
    "\n",
    "from sklearn.pipeline import Pipeline\n",
    "from sklearn.feature_extraction.text import CountVectorizer\n",
    "from sklearn.linear_model import LogisticRegression\n",
    "from sklearn import metrics\n",
    "\n",
    "from sklearn.model_selection import GridSearchCV"
   ]
  },
  {
   "cell_type": "code",
   "execution_count": 43,
   "id": "9277c039-2d71-4031-b313-b973da51f859",
   "metadata": {},
   "outputs": [],
   "source": [
    "from prefect import flow, task"
   ]
  },
  {
   "cell_type": "code",
   "execution_count": 47,
   "id": "af0248ed-49d8-437a-be8f-664b20f7e50f",
   "metadata": {},
   "outputs": [],
   "source": [
    "@task\n",
    "def load_data(csv_path):\n",
    "    '''\n",
    "    Given a path this function loads the data from csv in a pandas dataframe.\n",
    "    '''\n",
    "    df = pd.read_csv(path)\n",
    "    df = df.loc[df['label'] != 'neutral']\n",
    "    label_map = {'negative': 0, 'positive': 1}\n",
    "    df['label'] = df['label'].map(label_map)\n",
    "    return df\n",
    "\n",
    "\n",
    "\n",
    "@task\n",
    "def separate_inputs_outputs(data, inputs, outputs):\n",
    "    '''\n",
    "    separate the inputs and outputs from the data\n",
    "    '''\n",
    "\n",
    "    X = data[inputs]\n",
    "    y = data[outputs]\n",
    "\n",
    "    return X, y\n",
    "\n",
    "\n",
    "\n",
    "@task\n",
    "def split_train_test(X, y, test_size=0.25, random_state=42):\n",
    "    '''\n",
    "    splits the training and test data from inputs and outputs\n",
    "    '''\n",
    "    X_train, X_test, y_train, y_test = train_test_split(X, y, test_size=test_size, random_state=random_state)\n",
    "\n",
    "    return X_train, X_test, y_train, y_test\n",
    "\n",
    "\n",
    "\n",
    "@task\n",
    "def train_lr_model(X_train, y_train, **hyperparameters):\n",
    "\n",
    "    cachedir = '.cache'\n",
    "    memory = Memory(location=cachedir, verbose=0)\n",
    "    \n",
    "    pipe = Pipeline([\n",
    "        ('vectorization', CountVectorizer()),\n",
    "        ('classifier', LogisticRegression())\n",
    "    ], memory=memory)\n",
    "\n",
    "    clf = GridSearchCV(estimator=pipe, \n",
    "                               param_grid=hyperparameters, \n",
    "                               cv=3, \n",
    "                               scoring='f1', \n",
    "                               return_train_score=True,\n",
    "                               verbose=1\n",
    "                              )\n",
    "\n",
    "    clf.fit(X_train, y_train)\n",
    "    return clf\n",
    "\n",
    "\n",
    "\n",
    "@task\n",
    "def evaluate_lr_model(model, X_train, y_train, X_test, y_test):\n",
    "    \"\"\"\n",
    "    Evaluating the model.\n",
    "    \"\"\"\n",
    "    y_train_pred = model.predict(X_train)\n",
    "    y_test_pred = model.predict(X_test)\n",
    "\n",
    "        \n",
    "    train_score = metrics.f1_score(y_train, y_train_pred)\n",
    "    test_score = metrics.f1_score(y_test, y_test_pred)\n",
    "    \n",
    "    return train_score, test_score"
   ]
  },
  {
   "cell_type": "code",
   "execution_count": 45,
   "id": "a9ee9b73-c479-4e82-ab4c-ee22e579837e",
   "metadata": {},
   "outputs": [],
   "source": [
    "@flow(name=\"LR Training flow\", version=\"flow-1-LR\")\n",
    "def workflow(datapath):\n",
    "    DATA_PATH = datapath\n",
    "    INPUT = 'review_text'\n",
    "    OUTPUT = 'label'\n",
    "    HYPERPARAMETERS = {'vectorization': [CountVectorizer()], \n",
    "                       'vectorization__max_features': [1000], \n",
    "                       'classifier__C': [10], \n",
    "                       'classifier__penalty': ['l2'], \n",
    "                       'classifier__solver': ['saga'], }\n",
    "\n",
    "    #load data\n",
    "    data = load_data(DATA_PATH)\n",
    "\n",
    "    #Identify inputs and outputs\n",
    "    X, y = separate_inputs_outputs(data, INPUT, OUTPUT)\n",
    "\n",
    "    #split train and test data\n",
    "    X_train, X_test, y_train, y_test = split_train_test(X, y)\n",
    "\n",
    "    # Build a model\n",
    "    model = train_lr_model(X_train, y_train, **HYPERPARAMETERS)\n",
    "    \n",
    "    # Evaluation\n",
    "    train_score, test_score = evaluate_lr_model(model, X_train, y_train, X_test, y_test)\n",
    "    \n",
    "    print(\"Train f1 Score:\", train_score)\n",
    "    print(\"Test f1 Score:\", test_score)"
   ]
  },
  {
   "cell_type": "code",
   "execution_count": 48,
   "id": "880888e0-8e5c-457c-a858-5eb316e891d0",
   "metadata": {},
   "outputs": [
    {
     "data": {
      "text/html": [
       "<pre style=\"white-space:pre;overflow-x:auto;line-height:normal;font-family:Menlo,'DejaVu Sans Mono',consolas,'Courier New',monospace\">13:34:00.148 | <span style=\"color: #008080; text-decoration-color: #008080\">INFO</span>    | prefect.engine - Created flow run<span style=\"color: #800080; text-decoration-color: #800080\"> 'married-wren'</span> for flow<span style=\"color: #800080; text-decoration-color: #800080; font-weight: bold\"> 'LR Training flow'</span>\n",
       "</pre>\n"
      ],
      "text/plain": [
       "13:34:00.148 | \u001b[36mINFO\u001b[0m    | prefect.engine - Created flow run\u001b[35m 'married-wren'\u001b[0m for flow\u001b[1;35m 'LR Training flow'\u001b[0m\n"
      ]
     },
     "metadata": {},
     "output_type": "display_data"
    },
    {
     "data": {
      "text/html": [
       "<pre style=\"white-space:pre;overflow-x:auto;line-height:normal;font-family:Menlo,'DejaVu Sans Mono',consolas,'Courier New',monospace\">13:34:00.270 | <span style=\"color: #008080; text-decoration-color: #008080\">INFO</span>    | Flow run<span style=\"color: #800080; text-decoration-color: #800080\"> 'married-wren'</span> - Created task run 'load_data-0' for task 'load_data'\n",
       "</pre>\n"
      ],
      "text/plain": [
       "13:34:00.270 | \u001b[36mINFO\u001b[0m    | Flow run\u001b[35m 'married-wren'\u001b[0m - Created task run 'load_data-0' for task 'load_data'\n"
      ]
     },
     "metadata": {},
     "output_type": "display_data"
    },
    {
     "data": {
      "text/html": [
       "<pre style=\"white-space:pre;overflow-x:auto;line-height:normal;font-family:Menlo,'DejaVu Sans Mono',consolas,'Courier New',monospace\">13:34:00.272 | <span style=\"color: #008080; text-decoration-color: #008080\">INFO</span>    | Flow run<span style=\"color: #800080; text-decoration-color: #800080\"> 'married-wren'</span> - Executing 'load_data-0' immediately...\n",
       "</pre>\n"
      ],
      "text/plain": [
       "13:34:00.272 | \u001b[36mINFO\u001b[0m    | Flow run\u001b[35m 'married-wren'\u001b[0m - Executing 'load_data-0' immediately...\n"
      ]
     },
     "metadata": {},
     "output_type": "display_data"
    },
    {
     "data": {
      "text/html": [
       "<pre style=\"white-space:pre;overflow-x:auto;line-height:normal;font-family:Menlo,'DejaVu Sans Mono',consolas,'Courier New',monospace\">13:34:00.395 | <span style=\"color: #008080; text-decoration-color: #008080\">INFO</span>    | Task run 'load_data-0' - Finished in state <span style=\"color: #008000; text-decoration-color: #008000\">Completed</span>()\n",
       "</pre>\n"
      ],
      "text/plain": [
       "13:34:00.395 | \u001b[36mINFO\u001b[0m    | Task run 'load_data-0' - Finished in state \u001b[32mCompleted\u001b[0m()\n"
      ]
     },
     "metadata": {},
     "output_type": "display_data"
    },
    {
     "data": {
      "text/html": [
       "<pre style=\"white-space:pre;overflow-x:auto;line-height:normal;font-family:Menlo,'DejaVu Sans Mono',consolas,'Courier New',monospace\">13:34:00.434 | <span style=\"color: #008080; text-decoration-color: #008080\">INFO</span>    | Flow run<span style=\"color: #800080; text-decoration-color: #800080\"> 'married-wren'</span> - Created task run 'separate_inputs_outputs-0' for task 'separate_inputs_outputs'\n",
       "</pre>\n"
      ],
      "text/plain": [
       "13:34:00.434 | \u001b[36mINFO\u001b[0m    | Flow run\u001b[35m 'married-wren'\u001b[0m - Created task run 'separate_inputs_outputs-0' for task 'separate_inputs_outputs'\n"
      ]
     },
     "metadata": {},
     "output_type": "display_data"
    },
    {
     "data": {
      "text/html": [
       "<pre style=\"white-space:pre;overflow-x:auto;line-height:normal;font-family:Menlo,'DejaVu Sans Mono',consolas,'Courier New',monospace\">13:34:00.436 | <span style=\"color: #008080; text-decoration-color: #008080\">INFO</span>    | Flow run<span style=\"color: #800080; text-decoration-color: #800080\"> 'married-wren'</span> - Executing 'separate_inputs_outputs-0' immediately...\n",
       "</pre>\n"
      ],
      "text/plain": [
       "13:34:00.436 | \u001b[36mINFO\u001b[0m    | Flow run\u001b[35m 'married-wren'\u001b[0m - Executing 'separate_inputs_outputs-0' immediately...\n"
      ]
     },
     "metadata": {},
     "output_type": "display_data"
    },
    {
     "data": {
      "text/html": [
       "<pre style=\"white-space:pre;overflow-x:auto;line-height:normal;font-family:Menlo,'DejaVu Sans Mono',consolas,'Courier New',monospace\">13:34:00.561 | <span style=\"color: #008080; text-decoration-color: #008080\">INFO</span>    | Task run 'separate_inputs_outputs-0' - Finished in state <span style=\"color: #008000; text-decoration-color: #008000\">Completed</span>()\n",
       "</pre>\n"
      ],
      "text/plain": [
       "13:34:00.561 | \u001b[36mINFO\u001b[0m    | Task run 'separate_inputs_outputs-0' - Finished in state \u001b[32mCompleted\u001b[0m()\n"
      ]
     },
     "metadata": {},
     "output_type": "display_data"
    },
    {
     "data": {
      "text/html": [
       "<pre style=\"white-space:pre;overflow-x:auto;line-height:normal;font-family:Menlo,'DejaVu Sans Mono',consolas,'Courier New',monospace\">13:34:00.600 | <span style=\"color: #008080; text-decoration-color: #008080\">INFO</span>    | Flow run<span style=\"color: #800080; text-decoration-color: #800080\"> 'married-wren'</span> - Created task run 'split_train_test-0' for task 'split_train_test'\n",
       "</pre>\n"
      ],
      "text/plain": [
       "13:34:00.600 | \u001b[36mINFO\u001b[0m    | Flow run\u001b[35m 'married-wren'\u001b[0m - Created task run 'split_train_test-0' for task 'split_train_test'\n"
      ]
     },
     "metadata": {},
     "output_type": "display_data"
    },
    {
     "data": {
      "text/html": [
       "<pre style=\"white-space:pre;overflow-x:auto;line-height:normal;font-family:Menlo,'DejaVu Sans Mono',consolas,'Courier New',monospace\">13:34:00.602 | <span style=\"color: #008080; text-decoration-color: #008080\">INFO</span>    | Flow run<span style=\"color: #800080; text-decoration-color: #800080\"> 'married-wren'</span> - Executing 'split_train_test-0' immediately...\n",
       "</pre>\n"
      ],
      "text/plain": [
       "13:34:00.602 | \u001b[36mINFO\u001b[0m    | Flow run\u001b[35m 'married-wren'\u001b[0m - Executing 'split_train_test-0' immediately...\n"
      ]
     },
     "metadata": {},
     "output_type": "display_data"
    },
    {
     "data": {
      "text/html": [
       "<pre style=\"white-space:pre;overflow-x:auto;line-height:normal;font-family:Menlo,'DejaVu Sans Mono',consolas,'Courier New',monospace\">13:34:00.705 | <span style=\"color: #008080; text-decoration-color: #008080\">INFO</span>    | Task run 'split_train_test-0' - Finished in state <span style=\"color: #008000; text-decoration-color: #008000\">Completed</span>()\n",
       "</pre>\n"
      ],
      "text/plain": [
       "13:34:00.705 | \u001b[36mINFO\u001b[0m    | Task run 'split_train_test-0' - Finished in state \u001b[32mCompleted\u001b[0m()\n"
      ]
     },
     "metadata": {},
     "output_type": "display_data"
    },
    {
     "data": {
      "text/html": [
       "<pre style=\"white-space:pre;overflow-x:auto;line-height:normal;font-family:Menlo,'DejaVu Sans Mono',consolas,'Courier New',monospace\">13:34:00.746 | <span style=\"color: #008080; text-decoration-color: #008080\">INFO</span>    | Flow run<span style=\"color: #800080; text-decoration-color: #800080\"> 'married-wren'</span> - Created task run 'train_lr_model-0' for task 'train_lr_model'\n",
       "</pre>\n"
      ],
      "text/plain": [
       "13:34:00.746 | \u001b[36mINFO\u001b[0m    | Flow run\u001b[35m 'married-wren'\u001b[0m - Created task run 'train_lr_model-0' for task 'train_lr_model'\n"
      ]
     },
     "metadata": {},
     "output_type": "display_data"
    },
    {
     "data": {
      "text/html": [
       "<pre style=\"white-space:pre;overflow-x:auto;line-height:normal;font-family:Menlo,'DejaVu Sans Mono',consolas,'Courier New',monospace\">13:34:00.748 | <span style=\"color: #008080; text-decoration-color: #008080\">INFO</span>    | Flow run<span style=\"color: #800080; text-decoration-color: #800080\"> 'married-wren'</span> - Executing 'train_lr_model-0' immediately...\n",
       "</pre>\n"
      ],
      "text/plain": [
       "13:34:00.748 | \u001b[36mINFO\u001b[0m    | Flow run\u001b[35m 'married-wren'\u001b[0m - Executing 'train_lr_model-0' immediately...\n"
      ]
     },
     "metadata": {},
     "output_type": "display_data"
    },
    {
     "name": "stdout",
     "output_type": "stream",
     "text": [
      "Fitting 3 folds for each of 1 candidates, totalling 3 fits\n"
     ]
    },
    {
     "data": {
      "text/html": [
       "<pre style=\"white-space:pre;overflow-x:auto;line-height:normal;font-family:Menlo,'DejaVu Sans Mono',consolas,'Courier New',monospace\">13:34:01.293 | <span style=\"color: #008080; text-decoration-color: #008080\">INFO</span>    | Task run 'train_lr_model-0' - Finished in state <span style=\"color: #008000; text-decoration-color: #008000\">Completed</span>()\n",
       "</pre>\n"
      ],
      "text/plain": [
       "13:34:01.293 | \u001b[36mINFO\u001b[0m    | Task run 'train_lr_model-0' - Finished in state \u001b[32mCompleted\u001b[0m()\n"
      ]
     },
     "metadata": {},
     "output_type": "display_data"
    },
    {
     "data": {
      "text/html": [
       "<pre style=\"white-space:pre;overflow-x:auto;line-height:normal;font-family:Menlo,'DejaVu Sans Mono',consolas,'Courier New',monospace\">13:34:01.337 | <span style=\"color: #008080; text-decoration-color: #008080\">INFO</span>    | Flow run<span style=\"color: #800080; text-decoration-color: #800080\"> 'married-wren'</span> - Created task run 'evaluate_lr_model-0' for task 'evaluate_lr_model'\n",
       "</pre>\n"
      ],
      "text/plain": [
       "13:34:01.337 | \u001b[36mINFO\u001b[0m    | Flow run\u001b[35m 'married-wren'\u001b[0m - Created task run 'evaluate_lr_model-0' for task 'evaluate_lr_model'\n"
      ]
     },
     "metadata": {},
     "output_type": "display_data"
    },
    {
     "data": {
      "text/html": [
       "<pre style=\"white-space:pre;overflow-x:auto;line-height:normal;font-family:Menlo,'DejaVu Sans Mono',consolas,'Courier New',monospace\">13:34:01.340 | <span style=\"color: #008080; text-decoration-color: #008080\">INFO</span>    | Flow run<span style=\"color: #800080; text-decoration-color: #800080\"> 'married-wren'</span> - Executing 'evaluate_lr_model-0' immediately...\n",
       "</pre>\n"
      ],
      "text/plain": [
       "13:34:01.340 | \u001b[36mINFO\u001b[0m    | Flow run\u001b[35m 'married-wren'\u001b[0m - Executing 'evaluate_lr_model-0' immediately...\n"
      ]
     },
     "metadata": {},
     "output_type": "display_data"
    },
    {
     "data": {
      "text/html": [
       "<pre style=\"white-space:pre;overflow-x:auto;line-height:normal;font-family:Menlo,'DejaVu Sans Mono',consolas,'Courier New',monospace\">13:34:01.501 | <span style=\"color: #008080; text-decoration-color: #008080\">INFO</span>    | Task run 'evaluate_lr_model-0' - Finished in state <span style=\"color: #008000; text-decoration-color: #008000\">Completed</span>()\n",
       "</pre>\n"
      ],
      "text/plain": [
       "13:34:01.501 | \u001b[36mINFO\u001b[0m    | Task run 'evaluate_lr_model-0' - Finished in state \u001b[32mCompleted\u001b[0m()\n"
      ]
     },
     "metadata": {},
     "output_type": "display_data"
    },
    {
     "name": "stdout",
     "output_type": "stream",
     "text": [
      "Train f1 Score: 0.99192880794702\n",
      "Test f1 Score: 0.9770800627943486\n"
     ]
    },
    {
     "data": {
      "text/html": [
       "<pre style=\"white-space:pre;overflow-x:auto;line-height:normal;font-family:Menlo,'DejaVu Sans Mono',consolas,'Courier New',monospace\">13:34:01.554 | <span style=\"color: #008080; text-decoration-color: #008080\">INFO</span>    | Flow run<span style=\"color: #800080; text-decoration-color: #800080\"> 'married-wren'</span> - Finished in state <span style=\"color: #008000; text-decoration-color: #008000\">Completed</span>('All states completed.')\n",
       "</pre>\n"
      ],
      "text/plain": [
       "13:34:01.554 | \u001b[36mINFO\u001b[0m    | Flow run\u001b[35m 'married-wren'\u001b[0m - Finished in state \u001b[32mCompleted\u001b[0m('All states completed.')\n"
      ]
     },
     "metadata": {},
     "output_type": "display_data"
    }
   ],
   "source": [
    "if __name__  == '__main__':\n",
    "    path = 'F:/innomatics/sentiment_analysis_project/reviews_data_dump/labeled_sentiment_flipkart_reviews.csv'\n",
    "    workflow(path)"
   ]
  }
 ],
 "metadata": {
  "kernelspec": {
   "display_name": "Python 3 (ipykernel)",
   "language": "python",
   "name": "python3"
  },
  "language_info": {
   "codemirror_mode": {
    "name": "ipython",
    "version": 3
   },
   "file_extension": ".py",
   "mimetype": "text/x-python",
   "name": "python",
   "nbconvert_exporter": "python",
   "pygments_lexer": "ipython3",
   "version": "3.11.5"
  }
 },
 "nbformat": 4,
 "nbformat_minor": 5
}
